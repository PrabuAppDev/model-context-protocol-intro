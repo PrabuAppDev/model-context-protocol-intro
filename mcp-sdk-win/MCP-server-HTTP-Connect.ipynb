{
 "cells": [
  {
   "cell_type": "code",
   "execution_count": null,
   "id": "873ac7c8-a811-4f11-8693-3e53ac6bbaf3",
   "metadata": {},
   "outputs": [],
   "source": [
    "    import requests\n",
    "    import json\n",
    "    \n",
    "    MCP_SERVER_URL = \"http://127.0.0.1:5005\" # Replace with your host IP and port\n",
    "    \n",
    "    def send_mcp_request(method, path, params=None, data=None):\n",
    "        url = f\"{MCP_SERVER_URL}{path}\"\n",
    "        try:\n",
    "            if method == \"GET\":\n",
    "                response = requests.get(url, params=params)\n",
    "            elif method == \"POST\":\n",
    "                response = requests.post(url, params=params, data=json.dumps(data), headers={'Content-Type': 'application/json'})\n",
    "            else:\n",
    "                raise ValueError(f\"Unsupported method: {method}\")\n",
    "    \n",
    "            response.raise_for_status()  # Raise HTTPError for bad responses (4xx or 5xx)\n",
    "            return response.json()\n",
    "        except requests.exceptions.RequestException as e:\n",
    "             print(f\"Request failed: {e}\")\n",
    "             return None\n",
    "        except json.JSONDecodeError:\n",
    "            print(\"Failed to decode JSON response\")\n",
    "            return None\n",
    "    \n",
    "    # Example usage:\n",
    "    \n",
    "    # Discover the MCP server\n",
    "    discovery_response = send_mcp_request(\"GET\", \"/discover\")\n",
    "    if discovery_response:\n",
    "        print(\"Discovery Response:\", json.dumps(discovery_response, indent=2))\n",
    "    \n",
    "    # Call a method (replace with actual method and parameters)\n",
    "    method_response = send_mcp_request(\"POST\", \"/<your_method>\", data={\"param1\": \"value1\"})\n",
    "    if method_response:\n",
    "        print(\"Method Response:\", json.dumps(method_response, indent=2))"
   ]
  }
 ],
 "metadata": {
  "kernelspec": {
   "display_name": "Python 3 (ipykernel)",
   "language": "python",
   "name": "python3"
  },
  "language_info": {
   "codemirror_mode": {
    "name": "ipython",
    "version": 3
   },
   "file_extension": ".py",
   "mimetype": "text/x-python",
   "name": "python",
   "nbconvert_exporter": "python",
   "pygments_lexer": "ipython3",
   "version": "3.10.16"
  }
 },
 "nbformat": 4,
 "nbformat_minor": 5
}
