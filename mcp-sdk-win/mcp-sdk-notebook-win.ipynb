{
 "cells": [
  {
   "cell_type": "markdown",
   "id": "a3e6db48-b8fb-4946-8f12-40fd4b953616",
   "metadata": {},
   "source": [
    "# 🚀 MCP SDK (Python) – Ikigai Career Tool (Windows Setup)\n",
    "\n",
    "This notebook walks through using the Model Context Protocol (MCP) Python SDK to interact with a local SQLite MCP server and register tools like `score_ikigai`.\n",
    "\n",
    "---\n",
    "\n",
    "## 🧩 Step 1: Clone Repositories\n",
    "\n",
    "> Open **Git Bash** or a terminal and run the following from your working directory (e.g., `C:\\Users\\YourUsername\\Documents\\ws\\gitrepos`):\n",
    "\n",
    "```bash\n",
    "git clone https://github.com/modelcontextprotocol/python-sdk.git mcp-sdk-python\n",
    "cd mcp-sdk-python\n",
    "pip install -e \".[sqlite]\"\n",
    "cd ..\n",
    "git clone https://github.com/modelcontextprotocol/servers.git mcp-sdk-servers"
   ]
  },
  {
   "cell_type": "markdown",
   "id": "f6462a1b-f988-4fac-8a1f-16d9da630bb9",
   "metadata": {},
   "source": [
    "## 🛠️ Step 2: Set Up Python Environment (Docker-Based Server)\n",
    "\n",
    "This step sets up your Python environment using Conda and installs the MCP SDK so your notebook can interact with the SQLite server running inside Docker.\n",
    "\n",
    "---\n",
    "\n",
    "### ✅ 1. Create & Activate Conda Environment\n",
    "\n",
    "> Run in **Anaconda Prompt** (not PowerShell):\n",
    "\n",
    "```bash\n",
    "conda create -n mcp-sdk python=3.10 -y\n",
    "conda activate mcp-sdk"
   ]
  },
  {
   "attachments": {},
   "cell_type": "markdown",
   "id": "9cb592f2-f48e-43f7-ac35-cda87ce87243",
   "metadata": {},
   "source": [
    "## 🐳 Step 3: Build & Launch SQLite Server in Docker\n",
    "\n",
    "Since we encountered issues pulling from GHCR, we'll build the Docker image locally using the `Dockerfile` included in the `mcp-sdk-servers` repo.\n",
    "\n",
    "---\n",
    "\n",
    "### ✅ 1. Build Docker Image (from Local `Dockerfile`)\n",
    "\n",
    "> From the folder:  \n",
    "> `C:\\Users\\YourUsername\\Documents\\ws\\genai\\mcp-sdk-servers\\src\\sqlite`\n",
    "\n",
    "Run this in your terminal (Anaconda Prompt or Git Bash):\n",
    "\n",
    "```bash\n",
    "docker build -t mcp-sqlite-server .\n",
    "```\n",
    "\n",
    "### ✅ 2. Launch Server (With Local `test.db` Volume)\n",
    "\n",
    "Run the following command **from inside**:\n",
    "\n",
    "This launches the locally built SQLite MCP server in Docker using your `test.db` file for persistence:\n",
    "\n",
    "#### 📦 For **Anaconda Prompt / CMD** (Windows):\n",
    "\n",
    "```bash\n",
    "echo. > test.db\n",
    "docker run -it --rm ^\n",
    "  -v %cd%\\test.db:/app/test.db ^\n",
    "  -p 5005:5005 ^\n",
    "  mcp-sqlite-server ^\n",
    "  --db-path /app/test.db\n",
    "```\n",
    "\n",
    "![Docker container should be running](../mcp-docker-container.jpg)\n"
   ]
  },
  {
   "cell_type": "code",
   "execution_count": 1,
   "id": "86f989e3-df85-4eb5-8f43-18d84c9e729d",
   "metadata": {},
   "outputs": [],
   "source": [
    "# !pip list"
   ]
  },
  {
   "cell_type": "code",
   "execution_count": 2,
   "id": "e25540f2-cfe7-4244-a5ab-a5d477fae0a2",
   "metadata": {},
   "outputs": [],
   "source": [
    "# !pip install -v git+https://github.com/modelcontextprotocol/modelcontextprotocol.git"
   ]
  },
  {
   "cell_type": "code",
   "execution_count": 3,
   "id": "259c2aa6-e10d-45d3-8e3a-b5be66463ada",
   "metadata": {},
   "outputs": [],
   "source": [
    "# from modelcontextprotocol import Client\n",
    "\n",
    "# # Replace with the actual host and port if needed\n",
    "# client = Client(host=\"localhost\", port=5005, path=\"/\")\n",
    "\n",
    "# try:\n",
    "#     await client.connect()\n",
    "#     print(\"Connected to MCP server\")\n",
    "\n",
    "#     # Interact with the MCP server here, e.g., list available tools:\n",
    "#     tools = await client.list_tools()\n",
    "#     print(\"Available tools:\", tools)\n",
    "\n",
    "# except Exception as e:\n",
    "#     print(f\"Error connecting to MCP server: {e}\")\n",
    "# finally:\n",
    "#     if client.connected:\n",
    "#         await client.close()\n",
    "#         print(\"Disconnected from MCP server\")"
   ]
  },
  {
   "cell_type": "code",
   "execution_count": 4,
   "id": "b20f5256-f8ae-41ac-bee1-ce65c841889b",
   "metadata": {},
   "outputs": [],
   "source": [
    "# from mcp import ClientSession\n",
    "# from mcp.client.tcp import connect_tcp\n",
    "\n",
    "# async def test_mcp_tcp():\n",
    "#     reader, writer = await connect_tcp(\"127.0.0.1\", 5005)\n",
    "#     async with ClientSession(reader, writer) as session:\n",
    "#         await session.initialize()\n",
    "#         tools = await session.list_tools()\n",
    "#         print(\"Available tools:\", tools)\n",
    "\n",
    "# await test_mcp_tcp()"
   ]
  }
 ],
 "metadata": {
  "kernelspec": {
   "display_name": "Python 3 (ipykernel)",
   "language": "python",
   "name": "python3"
  },
  "language_info": {
   "codemirror_mode": {
    "name": "ipython",
    "version": 3
   },
   "file_extension": ".py",
   "mimetype": "text/x-python",
   "name": "python",
   "nbconvert_exporter": "python",
   "pygments_lexer": "ipython3",
   "version": "3.10.16"
  }
 },
 "nbformat": 4,
 "nbformat_minor": 5
}
