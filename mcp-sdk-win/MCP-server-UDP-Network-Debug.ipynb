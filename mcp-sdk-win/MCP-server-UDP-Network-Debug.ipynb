{
 "cells": [
  {
   "cell_type": "code",
   "execution_count": null,
   "id": "88bf6497-fc4c-478a-b2db-1e539712391d",
   "metadata": {},
   "outputs": [],
   "source": [
    "# # Constants\n",
    "# PORT = 50000\n",
    "# MAGIC = \"mcp_discovery\"  # Unique identifier for MCP servers\n",
    "\n",
    "# # Announce the server\n",
    "# import socket\n",
    "# s = socket.socket(socket.AF_INET, socket.SOCK_DGRAM)\n",
    "# s.bind(('', 0))\n",
    "# s.setsockopt(socket.SOL_SOCKET, socket.SO_BROADCAST, 1)\n",
    "# my_ip = socket.gethostbyname(socket.gethostname())\n",
    "# data = MAGIC + my_ip\n",
    "# s.sendto(data.encode(), ('<broadcast>', PORT))\n",
    "# print(\"MCP server announced\")\n",
    "\n",
    "# # Discover other servers\n",
    "# s = socket.socket(socket.AF_INET, socket.SOCK_DGRAM)\n",
    "# s.bind(('', PORT))\n",
    "\n",
    "# while True:\n",
    "#     data, addr = s.recvfrom(1024)\n",
    "#     data = data.decode()\n",
    "#     if data.startswith(MAGIC):\n",
    "#         print(\"MCP server found at:\", data[len(MAGIC):])"
   ]
  },
  {
   "cell_type": "code",
   "execution_count": null,
   "id": "5be5528f-36b8-4909-bbd5-87be7bca6f19",
   "metadata": {},
   "outputs": [],
   "source": [
    "# def broadcast_discovery(port=50000, magic=\"mcp_discovery\"):\n",
    "#     import socket\n",
    "#     s = socket.socket(socket.AF_INET, socket.SOCK_DGRAM)\n",
    "#     s.bind(('', 0))\n",
    "#     s.setsockopt(socket.SOL_SOCKET, socket.SO_BROADCAST, 1)\n",
    "\n",
    "#     my_ip = socket.gethostbyname(socket.gethostname())\n",
    "#     data = magic + my_ip\n",
    "#     s.sendto(data.encode(), ('<broadcast>', port))\n",
    "#     print(\"📡 Broadcasted MCP discovery packet\")\n",
    "#     s.close()"
   ]
  },
  {
   "cell_type": "code",
   "execution_count": null,
   "id": "d59fd597-c014-4ef1-9695-8ea11e5d2fca",
   "metadata": {},
   "outputs": [],
   "source": [
    "# def listen_for_servers(port=50000, magic=\"mcp_discovery\", timeout=5):\n",
    "#     import socket\n",
    "#     import time\n",
    "\n",
    "#     s = socket.socket(socket.AF_INET, socket.SOCK_DGRAM)\n",
    "#     s.bind(('', port))\n",
    "#     s.settimeout(timeout)\n",
    "\n",
    "#     discovered = set()\n",
    "#     print(\"👂 Listening for responses...\")\n",
    "\n",
    "#     start_time = time.time()\n",
    "#     while time.time() - start_time < timeout:\n",
    "#         try:\n",
    "#             data, addr = s.recvfrom(1024)\n",
    "#             data = data.decode()\n",
    "#             if data.startswith(magic):\n",
    "#                 ip = data[len(magic):]\n",
    "#                 discovered.add(ip)\n",
    "#                 print(f\"✅ Found MCP server at: {ip}\")\n",
    "#         except socket.timeout:\n",
    "#             break\n",
    "\n",
    "#     s.close()\n",
    "#     return list(discovered)"
   ]
  },
  {
   "cell_type": "code",
   "execution_count": null,
   "id": "cea4ed91-47e2-4475-ac8b-f66b922794fd",
   "metadata": {},
   "outputs": [],
   "source": [
    "# broadcast_discovery()\n",
    "# servers = listen_for_servers()\n",
    "# if servers:\n",
    "#     server_ip = servers[0]\n",
    "#     print(\"🚀 Ready to connect to:\", server_ip)\n",
    "# else:\n",
    "#     print(\"❌ No MCP servers found\")"
   ]
  }
 ],
 "metadata": {
  "kernelspec": {
   "display_name": "Python 3 (ipykernel)",
   "language": "python",
   "name": "python3"
  },
  "language_info": {
   "codemirror_mode": {
    "name": "ipython",
    "version": 3
   },
   "file_extension": ".py",
   "mimetype": "text/x-python",
   "name": "python",
   "nbconvert_exporter": "python",
   "pygments_lexer": "ipython3",
   "version": "3.10.16"
  }
 },
 "nbformat": 4,
 "nbformat_minor": 5
}
