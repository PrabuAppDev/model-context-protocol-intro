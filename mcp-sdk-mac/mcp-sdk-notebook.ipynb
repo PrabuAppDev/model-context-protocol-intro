{
 "cells": [
  {
   "cell_type": "code",
   "execution_count": 1,
   "id": "5e513b37-3436-46bb-a21f-3d179d2ddace",
   "metadata": {},
   "outputs": [
    {
     "name": "stdout",
     "output_type": "stream",
     "text": [
      "Requirement already satisfied: mcp in /opt/anaconda3/envs/mcp-sdk/lib/python3.10/site-packages (1.6.1.dev4+2ea1495)\n",
      "Requirement already satisfied: python-dotenv in /opt/anaconda3/envs/mcp-sdk/lib/python3.10/site-packages (0.21.0)\n",
      "Requirement already satisfied: requests in /opt/anaconda3/envs/mcp-sdk/lib/python3.10/site-packages (2.32.3)\n",
      "Requirement already satisfied: httpx in /opt/anaconda3/envs/mcp-sdk/lib/python3.10/site-packages (0.27.0)\n",
      "Requirement already satisfied: uvicorn in /opt/anaconda3/envs/mcp-sdk/lib/python3.10/site-packages (0.34.0)\n",
      "Requirement already satisfied: anyio>=4.5 in /opt/anaconda3/envs/mcp-sdk/lib/python3.10/site-packages (from mcp) (4.9.0)\n",
      "Requirement already satisfied: httpx-sse>=0.4 in /opt/anaconda3/envs/mcp-sdk/lib/python3.10/site-packages (from mcp) (0.4.0)\n",
      "Requirement already satisfied: pydantic-settings>=2.5.2 in /opt/anaconda3/envs/mcp-sdk/lib/python3.10/site-packages (from mcp) (2.6.1)\n",
      "Requirement already satisfied: pydantic<3.0.0,>=2.7.2 in /opt/anaconda3/envs/mcp-sdk/lib/python3.10/site-packages (from mcp) (2.10.3)\n",
      "Requirement already satisfied: sse-starlette>=1.6.1 in /opt/anaconda3/envs/mcp-sdk/lib/python3.10/site-packages (from mcp) (2.2.1)\n",
      "Requirement already satisfied: starlette>=0.27 in /opt/anaconda3/envs/mcp-sdk/lib/python3.10/site-packages (from mcp) (0.46.1)\n",
      "Requirement already satisfied: charset-normalizer<4,>=2 in /opt/anaconda3/envs/mcp-sdk/lib/python3.10/site-packages (from requests) (3.3.2)\n",
      "Requirement already satisfied: idna<4,>=2.5 in /opt/anaconda3/envs/mcp-sdk/lib/python3.10/site-packages (from requests) (3.10)\n",
      "Requirement already satisfied: urllib3<3,>=1.21.1 in /opt/anaconda3/envs/mcp-sdk/lib/python3.10/site-packages (from requests) (2.3.0)\n",
      "Requirement already satisfied: certifi>=2017.4.17 in /opt/anaconda3/envs/mcp-sdk/lib/python3.10/site-packages (from requests) (2025.1.31)\n",
      "Requirement already satisfied: httpcore==1.* in /opt/anaconda3/envs/mcp-sdk/lib/python3.10/site-packages (from httpx) (1.0.2)\n",
      "Requirement already satisfied: sniffio in /opt/anaconda3/envs/mcp-sdk/lib/python3.10/site-packages (from httpx) (1.3.0)\n",
      "Requirement already satisfied: h11<0.15,>=0.13 in /opt/anaconda3/envs/mcp-sdk/lib/python3.10/site-packages (from httpcore==1.*->httpx) (0.14.0)\n",
      "Requirement already satisfied: click>=7.0 in /opt/anaconda3/envs/mcp-sdk/lib/python3.10/site-packages (from uvicorn) (8.1.7)\n",
      "Requirement already satisfied: typing-extensions>=4.0 in /opt/anaconda3/envs/mcp-sdk/lib/python3.10/site-packages (from uvicorn) (4.12.2)\n",
      "Requirement already satisfied: exceptiongroup>=1.0.2 in /opt/anaconda3/envs/mcp-sdk/lib/python3.10/site-packages (from anyio>=4.5->mcp) (1.2.0)\n",
      "Requirement already satisfied: annotated-types>=0.6.0 in /opt/anaconda3/envs/mcp-sdk/lib/python3.10/site-packages (from pydantic<3.0.0,>=2.7.2->mcp) (0.6.0)\n",
      "Requirement already satisfied: pydantic-core==2.27.1 in /opt/anaconda3/envs/mcp-sdk/lib/python3.10/site-packages (from pydantic<3.0.0,>=2.7.2->mcp) (2.27.1)\n",
      "Note: you may need to restart the kernel to use updated packages.\n"
     ]
    }
   ],
   "source": [
    "# 🔢 Cell 1 — Install MCP SDK and supporting libraries (logs visible)\n",
    "%pip install mcp python-dotenv requests httpx uvicorn"
   ]
  },
  {
   "cell_type": "markdown",
   "id": "053851f8-8c89-4a31-9776-fc729f9c3718",
   "metadata": {},
   "source": [
    "Docker image install failed. Need:\n",
    "git clone https://github.com/modelcontextprotocol/python-sdk.git\n",
    "pip install -e \".[sqlite]\""
   ]
  },
  {
   "cell_type": "code",
   "execution_count": 2,
   "id": "fdc94579-39d7-45ad-829f-b6b772e62e30",
   "metadata": {},
   "outputs": [
    {
     "name": "stdout",
     "output_type": "stream",
     "text": [
      "✅ Loaded server config for: ['sqlite']\n"
     ]
    }
   ],
   "source": [
    "# 🔢 Cell 2 — Load .env and servers_config.json into a Configuration class\n",
    "\n",
    "import os\n",
    "import json\n",
    "from dotenv import load_dotenv\n",
    "\n",
    "class Configuration:\n",
    "    \"\"\"Manages .env loading and MCP server config.\"\"\"\n",
    "    \n",
    "    def __init__(self, config_path=\"servers_config.json\"):\n",
    "        load_dotenv()\n",
    "        self.api_key = os.getenv(\"OPENAI_API_KEY\")\n",
    "        if not self.api_key:\n",
    "            raise ValueError(\"⚠️ OPENAI_API_KEY not found in environment variables.\")\n",
    "        self.server_config = self.load_config(config_path)\n",
    "    \n",
    "    @staticmethod\n",
    "    def load_config(path: str) -> dict:\n",
    "        with open(path, \"r\") as f:\n",
    "            return json.load(f)\n",
    "\n",
    "# Instantiate the config\n",
    "config = Configuration()\n",
    "print(\"✅ Loaded server config for:\", list(config.server_config[\"mcpServers\"].keys()))"
   ]
  },
  {
   "cell_type": "code",
   "execution_count": null,
   "id": "522bda6a-68d9-4b86-bf16-1781a98b7bc5",
   "metadata": {},
   "outputs": [],
   "source": [
    "# cd to mcp-sdk-python/python-sdk\n"
   ]
  },
  {
   "cell_type": "code",
   "execution_count": 6,
   "id": "d00f8153-bc92-44ae-80fc-7fcce8254012",
   "metadata": {},
   "outputs": [
    {
     "name": "stdout",
     "output_type": "stream",
     "text": [
      "✅ Connected to MCP server: sqlite\n"
     ]
    },
    {
     "ename": "RuntimeError",
     "evalue": "Attempted to exit a cancel scope that isn't the current tasks's current cancel scope",
     "output_type": "error",
     "traceback": [
      "\u001b[0;31m---------------------------------------------------------------------------\u001b[0m",
      "\u001b[0;31mRuntimeError\u001b[0m                              Traceback (most recent call last)",
      "Cell \u001b[0;32mIn[6], line 42\u001b[0m\n\u001b[1;32m     39\u001b[0m     tools \u001b[38;5;241m=\u001b[39m \u001b[38;5;28;01mawait\u001b[39;00m server\u001b[38;5;241m.\u001b[39mlist_tools()\n\u001b[1;32m     40\u001b[0m     \u001b[38;5;28mprint\u001b[39m(\u001b[38;5;124m\"\u001b[39m\u001b[38;5;124m🔧 Available tools:\u001b[39m\u001b[38;5;124m\"\u001b[39m, tools)\n\u001b[0;32m---> 42\u001b[0m \u001b[38;5;28;01mawait\u001b[39;00m run_tool_discovery()\n",
      "Cell \u001b[0;32mIn[6], line 38\u001b[0m, in \u001b[0;36mrun_tool_discovery\u001b[0;34m()\u001b[0m\n\u001b[1;32m     36\u001b[0m sqlite_config \u001b[38;5;241m=\u001b[39m config\u001b[38;5;241m.\u001b[39mserver_config[\u001b[38;5;124m\"\u001b[39m\u001b[38;5;124mmcpServers\u001b[39m\u001b[38;5;124m\"\u001b[39m][\u001b[38;5;124m\"\u001b[39m\u001b[38;5;124msqlite\u001b[39m\u001b[38;5;124m\"\u001b[39m]\n\u001b[1;32m     37\u001b[0m server \u001b[38;5;241m=\u001b[39m MCPServer(\u001b[38;5;124m\"\u001b[39m\u001b[38;5;124msqlite\u001b[39m\u001b[38;5;124m\"\u001b[39m, sqlite_config)\n\u001b[0;32m---> 38\u001b[0m \u001b[38;5;28;01mawait\u001b[39;00m server\u001b[38;5;241m.\u001b[39mconnect()\n\u001b[1;32m     39\u001b[0m tools \u001b[38;5;241m=\u001b[39m \u001b[38;5;28;01mawait\u001b[39;00m server\u001b[38;5;241m.\u001b[39mlist_tools()\n\u001b[1;32m     40\u001b[0m \u001b[38;5;28mprint\u001b[39m(\u001b[38;5;124m\"\u001b[39m\u001b[38;5;124m🔧 Available tools:\u001b[39m\u001b[38;5;124m\"\u001b[39m, tools)\n",
      "Cell \u001b[0;32mIn[6], line 21\u001b[0m, in \u001b[0;36mMCPServer.connect\u001b[0;34m(self)\u001b[0m\n\u001b[1;32m     16\u001b[0m \u001b[38;5;250m\u001b[39m\u001b[38;5;124;03m\"\"\"Initialize MCP client session.\"\"\"\u001b[39;00m\n\u001b[1;32m     17\u001b[0m server_params \u001b[38;5;241m=\u001b[39m StdioServerParameters(\n\u001b[1;32m     18\u001b[0m     command\u001b[38;5;241m=\u001b[39m\u001b[38;5;28mself\u001b[39m\u001b[38;5;241m.\u001b[39mconfig[\u001b[38;5;124m\"\u001b[39m\u001b[38;5;124mcommand\u001b[39m\u001b[38;5;124m\"\u001b[39m],\n\u001b[1;32m     19\u001b[0m     args\u001b[38;5;241m=\u001b[39m\u001b[38;5;28mself\u001b[39m\u001b[38;5;241m.\u001b[39mconfig[\u001b[38;5;124m\"\u001b[39m\u001b[38;5;124margs\u001b[39m\u001b[38;5;124m\"\u001b[39m]\n\u001b[1;32m     20\u001b[0m )\n\u001b[0;32m---> 21\u001b[0m \u001b[38;5;28;01masync\u001b[39;00m \u001b[38;5;28;01mwith\u001b[39;00m stdio_client(server_params) \u001b[38;5;28;01mas\u001b[39;00m (read, write):\n\u001b[1;32m     22\u001b[0m     \u001b[38;5;28mself\u001b[39m\u001b[38;5;241m.\u001b[39msession \u001b[38;5;241m=\u001b[39m \u001b[38;5;28;01mawait\u001b[39;00m ClientSession(read, write)\u001b[38;5;241m.\u001b[39m\u001b[38;5;21m__aenter__\u001b[39m()\n\u001b[1;32m     23\u001b[0m     \u001b[38;5;28;01mawait\u001b[39;00m \u001b[38;5;28mself\u001b[39m\u001b[38;5;241m.\u001b[39msession\u001b[38;5;241m.\u001b[39minitialize()\n",
      "File \u001b[0;32m/opt/anaconda3/envs/mcp-sdk/lib/python3.10/contextlib.py:206\u001b[0m, in \u001b[0;36m_AsyncGeneratorContextManager.__aexit__\u001b[0;34m(self, typ, value, traceback)\u001b[0m\n\u001b[1;32m    204\u001b[0m \u001b[38;5;28;01mif\u001b[39;00m typ \u001b[38;5;129;01mis\u001b[39;00m \u001b[38;5;28;01mNone\u001b[39;00m:\n\u001b[1;32m    205\u001b[0m     \u001b[38;5;28;01mtry\u001b[39;00m:\n\u001b[0;32m--> 206\u001b[0m         \u001b[38;5;28;01mawait\u001b[39;00m anext(\u001b[38;5;28mself\u001b[39m\u001b[38;5;241m.\u001b[39mgen)\n\u001b[1;32m    207\u001b[0m     \u001b[38;5;28;01mexcept\u001b[39;00m \u001b[38;5;167;01mStopAsyncIteration\u001b[39;00m:\n\u001b[1;32m    208\u001b[0m         \u001b[38;5;28;01mreturn\u001b[39;00m \u001b[38;5;28;01mFalse\u001b[39;00m\n",
      "File \u001b[0;32m~/Documents/ws/gitrepos/mcp-sdk-python/python-sdk/src/mcp/client/stdio/__init__.py:166\u001b[0m, in \u001b[0;36mstdio_client\u001b[0;34m(server, errlog)\u001b[0m\n\u001b[1;32m    163\u001b[0m     \u001b[38;5;28;01mexcept\u001b[39;00m anyio\u001b[38;5;241m.\u001b[39mClosedResourceError:\n\u001b[1;32m    164\u001b[0m         \u001b[38;5;28;01mawait\u001b[39;00m anyio\u001b[38;5;241m.\u001b[39mlowlevel\u001b[38;5;241m.\u001b[39mcheckpoint()\n\u001b[0;32m--> 166\u001b[0m \u001b[38;5;28;01masync\u001b[39;00m \u001b[38;5;28;01mwith\u001b[39;00m (\n\u001b[1;32m    167\u001b[0m     anyio\u001b[38;5;241m.\u001b[39mcreate_task_group() \u001b[38;5;28;01mas\u001b[39;00m tg,\n\u001b[1;32m    168\u001b[0m     process,\n\u001b[1;32m    169\u001b[0m ):\n\u001b[1;32m    170\u001b[0m     tg\u001b[38;5;241m.\u001b[39mstart_soon(stdout_reader)\n\u001b[1;32m    171\u001b[0m     tg\u001b[38;5;241m.\u001b[39mstart_soon(stdin_writer)\n",
      "File \u001b[0;32m/opt/anaconda3/envs/mcp-sdk/lib/python3.10/site-packages/anyio/_backends/_asyncio.py:783\u001b[0m, in \u001b[0;36mTaskGroup.__aexit__\u001b[0;34m(***failed resolving arguments***)\u001b[0m\n\u001b[1;32m    779\u001b[0m             \u001b[38;5;28;01mreturn\u001b[39;00m \u001b[38;5;28;01mTrue\u001b[39;00m\n\u001b[1;32m    781\u001b[0m         \u001b[38;5;28;01mraise\u001b[39;00m\n\u001b[0;32m--> 783\u001b[0m     \u001b[38;5;28;01mreturn\u001b[39;00m \u001b[38;5;28;43mself\u001b[39;49m\u001b[38;5;241;43m.\u001b[39;49m\u001b[43mcancel_scope\u001b[49m\u001b[38;5;241;43m.\u001b[39;49m\u001b[38;5;21;43m__exit__\u001b[39;49m\u001b[43m(\u001b[49m\u001b[43mexc_type\u001b[49m\u001b[43m,\u001b[49m\u001b[43m \u001b[49m\u001b[43mexc_val\u001b[49m\u001b[43m,\u001b[49m\u001b[43m \u001b[49m\u001b[43mexc_tb\u001b[49m\u001b[43m)\u001b[49m\n\u001b[1;32m    784\u001b[0m \u001b[38;5;28;01mfinally\u001b[39;00m:\n\u001b[1;32m    785\u001b[0m     \u001b[38;5;28;01mdel\u001b[39;00m exc_val, exc_tb, \u001b[38;5;28mself\u001b[39m\u001b[38;5;241m.\u001b[39m_exceptions\n",
      "File \u001b[0;32m/opt/anaconda3/envs/mcp-sdk/lib/python3.10/site-packages/anyio/_backends/_asyncio.py:465\u001b[0m, in \u001b[0;36mCancelScope.__exit__\u001b[0;34m(***failed resolving arguments***)\u001b[0m\n\u001b[1;32m    463\u001b[0m host_task_state \u001b[38;5;241m=\u001b[39m _task_states\u001b[38;5;241m.\u001b[39mget(\u001b[38;5;28mself\u001b[39m\u001b[38;5;241m.\u001b[39m_host_task)\n\u001b[1;32m    464\u001b[0m \u001b[38;5;28;01mif\u001b[39;00m host_task_state \u001b[38;5;129;01mis\u001b[39;00m \u001b[38;5;28;01mNone\u001b[39;00m \u001b[38;5;129;01mor\u001b[39;00m host_task_state\u001b[38;5;241m.\u001b[39mcancel_scope \u001b[38;5;129;01mis\u001b[39;00m \u001b[38;5;129;01mnot\u001b[39;00m \u001b[38;5;28mself\u001b[39m:\n\u001b[0;32m--> 465\u001b[0m     \u001b[38;5;28;01mraise\u001b[39;00m \u001b[38;5;167;01mRuntimeError\u001b[39;00m(\n\u001b[1;32m    466\u001b[0m         \u001b[38;5;124m\"\u001b[39m\u001b[38;5;124mAttempted to exit a cancel scope that isn\u001b[39m\u001b[38;5;124m'\u001b[39m\u001b[38;5;124mt the current tasks\u001b[39m\u001b[38;5;124m'\u001b[39m\u001b[38;5;124ms \u001b[39m\u001b[38;5;124m\"\u001b[39m\n\u001b[1;32m    467\u001b[0m         \u001b[38;5;124m\"\u001b[39m\u001b[38;5;124mcurrent cancel scope\u001b[39m\u001b[38;5;124m\"\u001b[39m\n\u001b[1;32m    468\u001b[0m     )\n\u001b[1;32m    470\u001b[0m \u001b[38;5;28;01mtry\u001b[39;00m:\n\u001b[1;32m    471\u001b[0m     \u001b[38;5;28mself\u001b[39m\u001b[38;5;241m.\u001b[39m_active \u001b[38;5;241m=\u001b[39m \u001b[38;5;28;01mFalse\u001b[39;00m\n",
      "\u001b[0;31mRuntimeError\u001b[0m: Attempted to exit a cancel scope that isn't the current tasks's current cancel scope"
     ]
    }
   ],
   "source": [
    "# 🔢 Cell 3 — Connect to MCP Server (HTTP mode) and list available tools\n",
    "\n",
    "from mcp import ClientSession\n",
    "from mcp.client.http import http_client\n",
    "\n",
    "class MCPHttpServer:\n",
    "    \"\"\"Connects to a running HTTP-based MCP server.\"\"\"\n",
    "\n",
    "    def __init__(self, name: str, url: str):\n",
    "        self.name = name\n",
    "        self.url = url\n",
    "        self.session = None\n",
    "\n",
    "    async def connect(self):\n",
    "        client = http_client(self.url)\n",
    "        read, write = await client.__aenter__()\n",
    "        self.session = await ClientSession(read, write).__aenter__()\n",
    "        await self.session.initialize()\n",
    "        print(f\"✅ Connected to MCP HTTP server: {self.name}\")\n",
    "\n",
    "    async def list_tools(self):\n",
    "        if not self.session:\n",
    "            raise RuntimeError(\"Session not initialized.\")\n",
    "        tools_response = await self.session.list_tools()\n",
    "        tools = [tool.name for (kind, items) in tools_response if kind == \"tools\" for tool in items]\n",
    "        return tools\n",
    "\n",
    "# Run connection\n",
    "async def run_tool_discovery():\n",
    "    sqlite_url = config.server_config[\"mcpServers\"][\"sqlite\"][\"url\"]\n",
    "    server = MCPHttpServer(\"sqlite\", sqlite_url)\n",
    "    await server.connect()\n",
    "    tools = await server.list_tools()\n",
    "    print(\"🔧 Available tools:\", tools)\n",
    "\n",
    "await run_tool_discovery()"
   ]
  },
  {
   "cell_type": "code",
   "execution_count": null,
   "id": "2533e1d5-e9a9-4902-9337-ee74e5657781",
   "metadata": {},
   "outputs": [],
   "source": [
    "import mcp\n",
    "print(\"✅ MCP SDK is now installed and usable!\")"
   ]
  },
  {
   "cell_type": "code",
   "execution_count": null,
   "id": "b7c65c87-c0cc-42f2-8708-539ee3b6c635",
   "metadata": {},
   "outputs": [],
   "source": [
    "# 🧪 TEMP — Check if MCP is importable\n",
    "import importlib\n",
    "\n",
    "spec = importlib.util.find_spec(\"mcp\")\n",
    "print(\"✅ MCP is importable!\" if spec else \"❌ MCP is NOT importable\")"
   ]
  },
  {
   "cell_type": "code",
   "execution_count": null,
   "id": "9e22c6b6-7c5b-4747-8a52-e52f79cdeda7",
   "metadata": {},
   "outputs": [],
   "source": [
    "# 🧪 TEMP — Inspect what's inside the mcp module\n",
    "import mcp\n",
    "print(\"📦 Available in mcp:\", dir(mcp))"
   ]
  },
  {
   "cell_type": "code",
   "execution_count": null,
   "id": "eb4b0250-b215-4b5f-9055-5dad1bb7916f",
   "metadata": {},
   "outputs": [],
   "source": [
    "# 🔢 Cell 4 — Register the score_ikigai tool using kernel's Python (reliable)\n",
    "\n",
    "import subprocess\n",
    "import sys\n",
    "\n",
    "cmd = [\n",
    "    sys.executable, \"-m\", \"mcp.cli.tool\", \"add\",\n",
    "    \"--name\", \"score_ikigai\",\n",
    "    \"--description\", \"Scores two career paths using Ikigai dimensions\",\n",
    "    \"--input\", \"tools/tool-ikigai/score_ikigai.schema.json\",\n",
    "    \"--db-path\", \"./test.db\"\n",
    "]\n",
    "\n",
    "result = subprocess.run(cmd, capture_output=True, text=True)\n",
    "\n",
    "if result.returncode == 0:\n",
    "    print(\"✅ Tool registered successfully!\")\n",
    "    print(result.stdout)\n",
    "else:\n",
    "    print(\"❌ Tool registration failed:\")\n",
    "    print(result.stderr)"
   ]
  }
 ],
 "metadata": {
  "kernelspec": {
   "display_name": "Python 3 (ipykernel)",
   "language": "python",
   "name": "python3"
  },
  "language_info": {
   "codemirror_mode": {
    "name": "ipython",
    "version": 3
   },
   "file_extension": ".py",
   "mimetype": "text/x-python",
   "name": "python",
   "nbconvert_exporter": "python",
   "pygments_lexer": "ipython3",
   "version": "3.10.16"
  }
 },
 "nbformat": 4,
 "nbformat_minor": 5
}
